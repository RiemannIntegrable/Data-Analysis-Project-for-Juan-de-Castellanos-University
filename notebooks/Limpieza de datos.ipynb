{
 "cells": [
  {
   "cell_type": "markdown",
   "metadata": {},
   "source": [
    "**Jose Miguel Acuña Hernandez** \n",
    "\n",
    "**jacunah@unal.edu.co**"
   ]
  },
  {
   "cell_type": "markdown",
   "metadata": {},
   "source": [
    "En este documento constato como se realizo la limpieza de los datos entregados en el documento *8. Respuestas Acoso Escoral.xlsx - Respuestas de formulario.csv*"
   ]
  },
  {
   "cell_type": "markdown",
   "metadata": {},
   "source": [
    "# Llamado delibrerias y base de datos "
   ]
  },
  {
   "cell_type": "code",
   "execution_count": 1,
   "metadata": {},
   "outputs": [],
   "source": [
    "import numpy as np\n",
    "import pandas as pd\n",
    "import seaborn as sns\n",
    "import matplotlib.pyplot as plt"
   ]
  },
  {
   "cell_type": "code",
   "execution_count": 2,
   "metadata": {},
   "outputs": [],
   "source": [
    "data_prepros = pd.read_csv('/root/Proyectos/DataAnalysisJuanDeCastellanos/data/8. Respuestas Acoso Escolar.xlsx - Respuestas de formulario 1.csv')"
   ]
  },
  {
   "cell_type": "markdown",
   "metadata": {},
   "source": [
    "# Cambiando nombres de las columnas a unos mas razonables"
   ]
  },
  {
   "cell_type": "code",
   "execution_count": 3,
   "metadata": {},
   "outputs": [],
   "source": [
    "data_prepros = data_prepros.rename(columns = {'Marca temporal' : 'Marca temporal', 'Ciudad ' : 'Ciudad', ' Colegio' : 'Colegio', 'Grado' : 'Grado', 'Edad' : 'Edad', 'Género ' : 'Género',\n",
    "       'Grupo_familiar' : 'Grupo familiar', 'Zona_Vivienda' : 'Zona de vivienda', 'Grupo_Social' : 'Grupo social',\n",
    "       '8  Empujando_intencional' : 'Empuje intencional', ' 9. Halado_cabello_agredido' : 'Halon de cabello',\n",
    "       '10 Agredido_con_golpes ' : 'Golpes', '11 Dañado_objetos ' : 'Dañar objetos',\n",
    "       '12. ¿Lanzan_objetos? ' : 'Lanzar objetos', '13. ¿Insultos_ofensas?' : 'Insultos',\n",
    "       '14 ¿Víctima_chantaje?' : 'Chismes', '15 ¿Avergonzado_público?' : 'Avergonzado publicamente', '16 ¿Amenazas? ' : 'Amenazas',\n",
    "       '17 ¿Víctima_bromas_pesadas?' : 'Bromas pesadas', '18 ¿Frases excluyentes?' : 'Frases excluyentes',\n",
    "       '19 ¿Burlas_por_aspecto_físico_o_ condiciones_ particulares? ' : 'Burlas por aspecto o condición',\n",
    "       '20 ¿Mensajes_contenido_ofensivo_desagradable?' : 'Mensajes ofensivos o desagradables',\n",
    "       '21. ¿Insultos, groserías y palabras desagradables a través de redes sociales? ' : 'Insultos por redes sociales',\n",
    "       '22. ¿Ha recibido fotos y/o videos desagradables o incómodos sobre usted u otras personas a través de las redes sociales?' : 'Fotos o videos incomodos en redes sociales',\n",
    "       '23. ¿Ha recibido chantaje o amenazas por fotos o videos incómodos donde usted aparezca?' : 'Chantaje por fotos o videos suyos en redes sociales'})"
   ]
  },
  {
   "cell_type": "markdown",
   "metadata": {},
   "source": [
    "# Eliminando datos innecesarios y valores nulos"
   ]
  },
  {
   "cell_type": "code",
   "execution_count": 4,
   "metadata": {},
   "outputs": [],
   "source": [
    "data_prepros = data_prepros.drop(columns=['Marca temporal', 'Edad', 'Zona de vivienda', 'Grupo social', 'Grado'])\n"
   ]
  },
  {
   "cell_type": "code",
   "execution_count": 5,
   "metadata": {},
   "outputs": [],
   "source": [
    "data_prepros = data_prepros[data_prepros['Ciudad'] == 'Tunja']\n",
    "data_prepros = data_prepros.drop(columns=['Ciudad'])"
   ]
  },
  {
   "cell_type": "code",
   "execution_count": 6,
   "metadata": {},
   "outputs": [],
   "source": [
    "data_prepros = data_prepros.dropna()"
   ]
  },
  {
   "cell_type": "markdown",
   "metadata": {},
   "source": [
    "# Conversión de valores cualitativos a cuantitativos"
   ]
  },
  {
   "cell_type": "code",
   "execution_count": 7,
   "metadata": {},
   "outputs": [],
   "source": [
    "valores_a_reemplazar = {\n",
    "    'Nunca': 0,\n",
    "    'Una vez al mes': 1,\n",
    "    'Entre 2 y 4 veces al mes': 2,\n",
    "    '5 o más veces al mes': 5,\n",
    "}\n",
    "\n",
    "columnas = ['Empuje intencional', 'Halon de cabello', 'Golpes', 'Dañar objetos', 'Lanzar objetos', 'Insultos', 'Chismes', 'Avergonzado publicamente', 'Amenazas', 'Bromas pesadas', 'Frases excluyentes', 'Burlas por aspecto o condición', 'Mensajes ofensivos o desagradables', 'Insultos por redes sociales', 'Fotos o videos incomodos en redes sociales', 'Chantaje por fotos o videos suyos en redes sociales']\n",
    "\n",
    "for columna in columnas:\n",
    "    data_prepros[columna] = data_prepros[columna].replace(valores_a_reemplazar)"
   ]
  },
  {
   "cell_type": "markdown",
   "metadata": {},
   "source": [
    "Tome Nunca y lo remplace por 0, Una vez al mes por 1, Entre 2 y 4 veces al mes por 2 y 5 o más veces al mes por 5. Si me lo piden, puedo hacer una asignación distinta, sin embargo considero que esta es la mas lógica."
   ]
  },
  {
   "cell_type": "markdown",
   "metadata": {},
   "source": [
    "# Conversión de strings a floats"
   ]
  },
  {
   "cell_type": "code",
   "execution_count": 8,
   "metadata": {},
   "outputs": [],
   "source": [
    "columnas = data_prepros.columns[3:]\n",
    "\n",
    "# Convierte esas columnas a int\n",
    "for columna in columnas:\n",
    "    data_prepros[columna] = data_prepros[columna].apply(pd.to_numeric, errors='coerce')"
   ]
  },
  {
   "cell_type": "code",
   "execution_count": 9,
   "metadata": {},
   "outputs": [],
   "source": [
    "data_prepros['Reportes de abuso físico'] = data_prepros[['Empuje intencional', 'Halon de cabello', 'Golpes', 'Dañar objetos', 'Lanzar objetos']].sum(axis=1)\n",
    "data_prepros['Reportes de abuso psicológico'] = data_prepros[['Insultos', 'Chismes', 'Avergonzado publicamente', 'Amenazas', 'Bromas pesadas', 'Frases excluyentes', 'Burlas por aspecto o condición']].sum(axis=1)\n",
    "data_prepros['Reportes de ciberbullying'] = data_prepros[['Mensajes ofensivos o desagradables', 'Insultos por redes sociales', 'Fotos o videos incomodos en redes sociales', 'Chantaje por fotos o videos suyos en redes sociales']].sum(axis=1)"
   ]
  },
  {
   "cell_type": "code",
   "execution_count": 10,
   "metadata": {},
   "outputs": [],
   "source": [
    "Datos = data_prepros.drop(columns=['Empuje intencional', 'Halon de cabello', 'Golpes', 'Dañar objetos', 'Lanzar objetos', 'Insultos', 'Chismes', 'Avergonzado publicamente', 'Amenazas', 'Bromas pesadas', 'Frases excluyentes', 'Burlas por aspecto o condición', 'Mensajes ofensivos o desagradables', 'Insultos por redes sociales', 'Fotos o videos incomodos en redes sociales', 'Chantaje por fotos o videos suyos en redes sociales'])\n",
    "Datos['Cantidad de estudiantes'] = 1\n",
    "Datos['Victimas de abuso físico'] = Datos['Reportes de abuso físico'].apply(lambda x: 1 if x > 0 else 0)\n",
    "Datos['Victimas de abuso psicológico'] = Datos['Reportes de abuso psicológico'].apply(lambda x: 1 if x > 0 else 0)\n",
    "Datos['Victimas de ciberbullying'] = Datos['Reportes de ciberbullying'].apply(lambda x: 1 if x > 0 else 0)"
   ]
  },
  {
   "cell_type": "markdown",
   "metadata": {},
   "source": [
    "# Clasificamos de forma mas especifica el grupo familiar"
   ]
  },
  {
   "cell_type": "code",
   "execution_count": 11,
   "metadata": {},
   "outputs": [],
   "source": [
    "def clasificar_grupo_familiar(valor):\n",
    "    if 'Madre' in valor and 'Padre' in valor:\n",
    "        return 'Ambos'\n",
    "    elif 'Madre' not in valor and 'Padre' not in valor:\n",
    "        return 'Ninguno'\n",
    "    elif 'Madre' in valor and 'Padre' not in valor:\n",
    "        return 'Solo madre'\n",
    "    elif 'Padre' in valor and 'Madre' not in valor:\n",
    "        return 'Solo padre'\n",
    "\n",
    "Datos['Padres'] = Datos.copy()['Grupo familiar'].apply(clasificar_grupo_familiar)\n",
    "Datos = Datos.drop(columns=['Grupo familiar'])"
   ]
  },
  {
   "cell_type": "markdown",
   "metadata": {},
   "source": [
    "# Creamos un documento con la información que se pueda leer en otros notebooks."
   ]
  },
  {
   "cell_type": "code",
   "execution_count": 12,
   "metadata": {},
   "outputs": [],
   "source": [
    "Datos.to_pickle('Datos.pkl')"
   ]
  }
 ],
 "metadata": {
  "kernelspec": {
   "display_name": "final_project",
   "language": "python",
   "name": "python3"
  },
  "language_info": {
   "codemirror_mode": {
    "name": "ipython",
    "version": 3
   },
   "file_extension": ".py",
   "mimetype": "text/x-python",
   "name": "python",
   "nbconvert_exporter": "python",
   "pygments_lexer": "ipython3",
   "version": "3.12.2"
  }
 },
 "nbformat": 4,
 "nbformat_minor": 2
}
